{
 "cells": [
  {
   "cell_type": "code",
   "execution_count": 1,
   "metadata": {},
   "outputs": [
    {
     "name": "stdout",
     "output_type": "stream",
     "text": [
      "[2 4 6 8]\n"
     ]
    }
   ],
   "source": [
    "import numpy as np\n",
    "List=np.array([1,2,3,4])\n",
    "List=List*2\n",
    "print(List)"
   ]
  },
  {
   "cell_type": "code",
   "execution_count": 3,
   "metadata": {},
   "outputs": [
    {
     "name": "stdout",
     "output_type": "stream",
     "text": [
      "[[0. 0. 0.]\n",
      " [0. 0. 0.]]\n",
      "[[0.  0.  8.9]\n",
      " [0.  0.  0. ]]\n"
     ]
    }
   ],
   "source": [
    "list1=np.zeros([2,3])\n",
    "print(list1)\n",
    "list1[0][2]=8.9\n",
    "print(list1)"
   ]
  },
  {
   "cell_type": "code",
   "execution_count": 48,
   "metadata": {},
   "outputs": [],
   "source": [
    "list2=np.empty([2,2,3,4,2],dtype=\"int\")"
   ]
  },
  {
   "cell_type": "markdown",
   "metadata": {},
   "source": [
    "print(list2)\n",
    "\n"
   ]
  },
  {
   "cell_type": "code",
   "execution_count": 49,
   "metadata": {},
   "outputs": [
    {
     "data": {
      "text/plain": [
       "5"
      ]
     },
     "execution_count": 49,
     "metadata": {},
     "output_type": "execute_result"
    }
   ],
   "source": [
    "list2.ndim"
   ]
  },
  {
   "cell_type": "code",
   "execution_count": 50,
   "metadata": {},
   "outputs": [
    {
     "data": {
      "text/plain": [
       "dtype('float64')"
      ]
     },
     "execution_count": 50,
     "metadata": {},
     "output_type": "execute_result"
    }
   ],
   "source": [
    "list1.dtype"
   ]
  },
  {
   "cell_type": "code",
   "execution_count": 51,
   "metadata": {
    "scrolled": false
   },
   "outputs": [
    {
     "data": {
      "text/plain": [
       "array([[[[[ 979269792,        403],\n",
       "          [ 979507120,        403],\n",
       "          [      1096,          0],\n",
       "          [         4,          0]],\n",
       "\n",
       "         [[       600,          0],\n",
       "          [       411,          0],\n",
       "          [       928,          0],\n",
       "          [       411,        403]],\n",
       "\n",
       "         [[       464,          0],\n",
       "          [       411,        403],\n",
       "          [       908,          0],\n",
       "          [       411,        403]]],\n",
       "\n",
       "\n",
       "        [[[       472,          0],\n",
       "          [       411,        403],\n",
       "          [      1000,          0],\n",
       "          [       411,        403]],\n",
       "\n",
       "         [[      1088,          0],\n",
       "          [       411,        403],\n",
       "          [      1096,          0],\n",
       "          [       411,        403]],\n",
       "\n",
       "         [[      1040,          0],\n",
       "          [       411,        403],\n",
       "          [      1068,          0],\n",
       "          [       411,        403]]]],\n",
       "\n",
       "\n",
       "\n",
       "       [[[[      1096,          0],\n",
       "          [         4,        403],\n",
       "          [1065446984,        403],\n",
       "          [1065453416,        403]],\n",
       "\n",
       "         [[1065453512,        403],\n",
       "          [1065616232,        403],\n",
       "          [1065616312,        403],\n",
       "          [1065616392,        403]],\n",
       "\n",
       "         [[1065629016,        403],\n",
       "          [1065461016,        403],\n",
       "          [1065461104,        403],\n",
       "          [1065461192,        403]]],\n",
       "\n",
       "\n",
       "        [[[1065461280,        403],\n",
       "          [1065461368,        403],\n",
       "          [1065461456,        403],\n",
       "          [1065629088,        403]],\n",
       "\n",
       "         [[1065629160,        403],\n",
       "          [1065633272,        403],\n",
       "          [1065633328,        403],\n",
       "          [1065633384,        403]],\n",
       "\n",
       "         [[1065633440,        403],\n",
       "          [1065633496,        403],\n",
       "          [1065633552,        403],\n",
       "          [1065633608,        403]]]]])"
      ]
     },
     "execution_count": 51,
     "metadata": {},
     "output_type": "execute_result"
    }
   ],
   "source": [
    "list2\n"
   ]
  },
  {
   "cell_type": "code",
   "execution_count": 42,
   "metadata": {},
   "outputs": [],
   "source": [
    "list2[1,2,3,1]=97"
   ]
  },
  {
   "cell_type": "code",
   "execution_count": 43,
   "metadata": {
    "scrolled": false
   },
   "outputs": [
    {
     "data": {
      "text/plain": [
       "array([[[[4128860, 6029375],\n",
       "         [3801155, 5242972],\n",
       "         [7274610, 7471207],\n",
       "         [7143521, 6357060]],\n",
       "\n",
       "        [[6357108, 4259932],\n",
       "         [6357102, 7274595],\n",
       "         [6553710, 3342433],\n",
       "         [7077980, 6422633]],\n",
       "\n",
       "        [[7536732, 7602281],\n",
       "         [2949221, 6357104],\n",
       "         [7012451, 6750305],\n",
       "         [7536741, 7209052]]],\n",
       "\n",
       "\n",
       "       [[[7143541, 7929968],\n",
       "         [7471196, 7209057],\n",
       "         [7274596, 6029421],\n",
       "         [7602285, 6357106]],\n",
       "\n",
       "        [[6553710, 6488110],\n",
       "         [3342448, 2949175],\n",
       "         [6881399, 6226030],\n",
       "         [7143521, 3539044]],\n",
       "\n",
       "        [[3014708, 7929968],\n",
       "         [3014756, 3014706],\n",
       "         [7274563, 6684782],\n",
       "         [6750313,      97]]]])"
      ]
     },
     "execution_count": 43,
     "metadata": {},
     "output_type": "execute_result"
    }
   ],
   "source": [
    "list2"
   ]
  },
  {
   "cell_type": "code",
   "execution_count": 2,
   "metadata": {},
   "outputs": [
    {
     "ename": "NameError",
     "evalue": "name 'dtype' is not defined",
     "output_type": "error",
     "traceback": [
      "\u001b[1;31m---------------------------------------------------------------------------\u001b[0m",
      "\u001b[1;31mNameError\u001b[0m                                 Traceback (most recent call last)",
      "\u001b[1;32m<ipython-input-2-d1f239fd0eed>\u001b[0m in \u001b[0;36m<module>\u001b[1;34m\u001b[0m\n\u001b[1;32m----> 1\u001b[1;33m \u001b[0mlist3\u001b[0m\u001b[1;33m=\u001b[0m\u001b[0mnp\u001b[0m\u001b[1;33m.\u001b[0m\u001b[0mempty\u001b[0m\u001b[1;33m(\u001b[0m\u001b[1;33m[\u001b[0m\u001b[1;36m3\u001b[0m\u001b[1;33m,\u001b[0m\u001b[1;36m4\u001b[0m\u001b[1;33m]\u001b[0m\u001b[1;33m,\u001b[0m\u001b[0mdtype\u001b[0m\u001b[1;33m)\u001b[0m\u001b[1;33m\u001b[0m\u001b[1;33m\u001b[0m\u001b[0m\n\u001b[0m",
      "\u001b[1;31mNameError\u001b[0m: name 'dtype' is not defined"
     ]
    }
   ],
   "source": [
    "list3=np.empty([3,4],dtype)"
   ]
  },
  {
   "cell_type": "code",
   "execution_count": 3,
   "metadata": {},
   "outputs": [],
   "source": [
    "list3=np.eye(4)"
   ]
  },
  {
   "cell_type": "code",
   "execution_count": 4,
   "metadata": {},
   "outputs": [
    {
     "data": {
      "text/plain": [
       "array([[1., 0., 0., 0.],\n",
       "       [0., 1., 0., 0.],\n",
       "       [0., 0., 1., 0.],\n",
       "       [0., 0., 0., 1.]])"
      ]
     },
     "execution_count": 4,
     "metadata": {},
     "output_type": "execute_result"
    }
   ],
   "source": [
    "list3"
   ]
  },
  {
   "cell_type": "code",
   "execution_count": 5,
   "metadata": {},
   "outputs": [],
   "source": [
    "list3=list3*list3"
   ]
  },
  {
   "cell_type": "code",
   "execution_count": 6,
   "metadata": {},
   "outputs": [
    {
     "data": {
      "text/plain": [
       "array([[1., 0., 0., 0.],\n",
       "       [0., 1., 0., 0.],\n",
       "       [0., 0., 1., 0.],\n",
       "       [0., 0., 0., 1.]])"
      ]
     },
     "execution_count": 6,
     "metadata": {},
     "output_type": "execute_result"
    }
   ],
   "source": [
    "list3\n"
   ]
  },
  {
   "cell_type": "code",
   "execution_count": 18,
   "metadata": {},
   "outputs": [],
   "source": [
    "list3=[[2,3],[6,7]]"
   ]
  },
  {
   "cell_type": "code",
   "execution_count": 19,
   "metadata": {},
   "outputs": [],
   "source": [
    "list3=np.array(list3)"
   ]
  },
  {
   "cell_type": "markdown",
   "metadata": {},
   "source": [
    "### "
   ]
  },
  {
   "cell_type": "code",
   "execution_count": 15,
   "metadata": {},
   "outputs": [
    {
     "data": {
      "text/plain": [
       "array([[2, 3],\n",
       "       [6, 7]])"
      ]
     },
     "execution_count": 15,
     "metadata": {},
     "output_type": "execute_result"
    }
   ],
   "source": [
    "list3\n"
   ]
  },
  {
   "cell_type": "code",
   "execution_count": 11,
   "metadata": {},
   "outputs": [],
   "source": [
    "list3=list3*list3"
   ]
  },
  {
   "cell_type": "code",
   "execution_count": 20,
   "metadata": {},
   "outputs": [
    {
     "data": {
      "text/plain": [
       "array([[2, 3],\n",
       "       [6, 7]])"
      ]
     },
     "execution_count": 20,
     "metadata": {},
     "output_type": "execute_result"
    }
   ],
   "source": [
    "list3"
   ]
  },
  {
   "cell_type": "code",
   "execution_count": 16,
   "metadata": {},
   "outputs": [],
   "source": [
    "list3=np.asmatrix(list3)*list3"
   ]
  },
  {
   "cell_type": "code",
   "execution_count": 17,
   "metadata": {},
   "outputs": [
    {
     "data": {
      "text/plain": [
       "matrix([[22, 27],\n",
       "        [54, 67]])"
      ]
     },
     "execution_count": 17,
     "metadata": {},
     "output_type": "execute_result"
    }
   ],
   "source": [
    "list3"
   ]
  },
  {
   "cell_type": "code",
   "execution_count": null,
   "metadata": {},
   "outputs": [],
   "source": []
  }
 ],
 "metadata": {
  "kernelspec": {
   "display_name": "Python 3",
   "language": "python",
   "name": "python3"
  },
  "language_info": {
   "codemirror_mode": {
    "name": "ipython",
    "version": 3
   },
   "file_extension": ".py",
   "mimetype": "text/x-python",
   "name": "python",
   "nbconvert_exporter": "python",
   "pygments_lexer": "ipython3",
   "version": "3.7.3"
  }
 },
 "nbformat": 4,
 "nbformat_minor": 2
}
