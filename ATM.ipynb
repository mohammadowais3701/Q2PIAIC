{
 "cells": [
  {
   "cell_type": "code",
   "execution_count": 18,
   "metadata": {},
   "outputs": [
    {
     "name": "stdout",
     "output_type": "stream",
     "text": [
      "Enter PIN Number2313\n",
      "Enter withdraw amount50000\n",
      "You dont have money\n"
     ]
    }
   ],
   "source": [
    "pin=2313\n",
    "balance=45987.67\n",
    "amount\n",
    "pinnum=int(input(\"Enter PIN Number\"))\n",
    "if(pinnum==pin):\n",
    "    amount=float(input(\"Enter withdraw amount\"))\n",
    "    if(amount <= balance):\n",
    "        print(\"you received RS %f\" %amount)\n",
    "        print(\"Your Current balance is %f\" %(balance-amount))\n",
    "    else:\n",
    "        print(\"You dont have money\")\n",
    "else:\n",
    "    print(\"your pin is incorrect\")\n",
    "\n"
   ]
  },
  {
   "cell_type": "code",
   "execution_count": null,
   "metadata": {},
   "outputs": [],
   "source": []
  },
  {
   "cell_type": "code",
   "execution_count": null,
   "metadata": {},
   "outputs": [],
   "source": []
  },
  {
   "cell_type": "code",
   "execution_count": null,
   "metadata": {},
   "outputs": [],
   "source": []
  }
 ],
 "metadata": {
  "kernelspec": {
   "display_name": "Python 3",
   "language": "python",
   "name": "python3"
  },
  "language_info": {
   "codemirror_mode": {
    "name": "ipython",
    "version": 3
   },
   "file_extension": ".py",
   "mimetype": "text/x-python",
   "name": "python",
   "nbconvert_exporter": "python",
   "pygments_lexer": "ipython3",
   "version": "3.7.3"
  }
 },
 "nbformat": 4,
 "nbformat_minor": 2
}
