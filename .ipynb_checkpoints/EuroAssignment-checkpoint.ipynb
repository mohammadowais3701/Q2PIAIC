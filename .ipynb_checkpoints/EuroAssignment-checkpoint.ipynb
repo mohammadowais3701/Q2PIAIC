{
 "cells": [
  {
   "cell_type": "code",
   "execution_count": 1,
   "metadata": {},
   "outputs": [],
   "source": [
    "import pandas as pd"
   ]
  },
  {
   "cell_type": "code",
   "execution_count": 2,
   "metadata": {},
   "outputs": [],
   "source": [
    "euro12=pd.read_csv('Euro_2012_stats_TEAM.csv')"
   ]
  },
  {
   "cell_type": "code",
   "execution_count": 3,
   "metadata": {},
   "outputs": [
    {
     "name": "stdout",
     "output_type": "stream",
     "text": [
      "Select only the Goal column\n",
      "0      4\n",
      "1      4\n",
      "2      4\n",
      "3      5\n",
      "4      3\n",
      "5     10\n",
      "6      5\n",
      "7      6\n",
      "8      2\n",
      "9      2\n",
      "10     6\n",
      "11     1\n",
      "12     5\n",
      "13    12\n",
      "14     5\n",
      "15     2\n",
      "Name: Goals, dtype: int64\n"
     ]
    }
   ],
   "source": [
    "print('Select only the Goal column')\n",
    "print(euro12['Goals'])"
   ]
  },
  {
   "cell_type": "code",
   "execution_count": 4,
   "metadata": {},
   "outputs": [
    {
     "name": "stdout",
     "output_type": "stream",
     "text": [
      "How many team participated in the Euro2012\n",
      "16\n"
     ]
    }
   ],
   "source": [
    "print('How many team participated in the Euro2012')\n",
    "print(len(euro12['Team']))"
   ]
  },
  {
   "cell_type": "code",
   "execution_count": 5,
   "metadata": {},
   "outputs": [
    {
     "name": "stdout",
     "output_type": "stream",
     "text": [
      "What is the number of columns in the dataset\n",
      "36\n"
     ]
    }
   ],
   "source": [
    "print('What is the number of columns in the dataset')\n",
    "print(len(euro12.columns))"
   ]
  },
  {
   "cell_type": "code",
   "execution_count": 6,
   "metadata": {},
   "outputs": [
    {
     "name": "stdout",
     "output_type": "stream",
     "text": [
      "View only the columns Team, Yellow Cards and Red Cards and assign them to a dataframe called discipline\n",
      "     Team\n",
      "9  Poland\n",
      "9  Poland\n",
      "9  Poland\n",
      "9  Poland\n",
      "9  Poland\n",
      "9  Poland\n",
      "7   Italy\n",
      "9  Poland\n",
      "9  Poland\n",
      "7   Italy\n",
      "9  Poland\n",
      "7   Italy\n",
      "9  Poland\n",
      "9  Poland\n",
      "9  Poland\n",
      "9  Poland\n"
     ]
    }
   ],
   "source": [
    "print('View only the columns Team, Yellow Cards and Red Cards and assign them to a dataframe called discipline')\n",
    "discipline=pd.DataFrame(euro12['Team'][euro12['Yellow Cards'][ euro12['Red Cards']]])\n",
    "print(discipline)"
   ]
  },
  {
   "cell_type": "code",
   "execution_count": 7,
   "metadata": {},
   "outputs": [
    {
     "name": "stdout",
     "output_type": "stream",
     "text": [
      "0     C\n",
      "1     C\n",
      "2     D\n",
      "3     E\n",
      "4     F\n",
      "5     G\n",
      "6     G\n",
      "7     I\n",
      "8     N\n",
      "9     P\n",
      "10    P\n",
      "11    R\n",
      "12    R\n",
      "13    S\n",
      "14    S\n",
      "15    U\n",
      "Name: Team, dtype: object\n"
     ]
    }
   ],
   "source": [
    "firstLetter=euro12['Team'].astype(str).str[0]\n",
    "print(firstLetter)"
   ]
  },
  {
   "cell_type": "code",
   "execution_count": 19,
   "metadata": {},
   "outputs": [
    {
     "name": "stdout",
     "output_type": "stream",
     "text": [
      "Select the first 7 columns\n",
      "                   Team  Goals  Shots on target  Shots off target  \\\n",
      "0               Croatia      4               13                12   \n",
      "1        Czech Republic      4               13                18   \n",
      "2               Denmark      4               10                10   \n",
      "3               England      5               11                18   \n",
      "4                France      3               22                24   \n",
      "5               Germany     10               32                32   \n",
      "6                Greece      5                8                18   \n",
      "7                 Italy      6               34                45   \n",
      "8           Netherlands      2               12                36   \n",
      "9                Poland      2               15                23   \n",
      "10             Portugal      6               22                42   \n",
      "11  Republic of Ireland      1                7                12   \n",
      "12               Russia      5                9                31   \n",
      "13                Spain     12               42                33   \n",
      "14               Sweden      5               17                19   \n",
      "15              Ukraine      2                7                26   \n",
      "\n",
      "   Shooting Accuracy % Goals-to-shots  Total shots (inc. Blocked)  \n",
      "0             51.90%           16.00%                          32  \n",
      "1             41.90%           12.90%                          39  \n",
      "2             50.00%           20.00%                          27  \n",
      "3             50.00%           17.20%                          40  \n",
      "4             37.90%            6.50%                          65  \n",
      "5             47.80%           15.60%                          80  \n",
      "6             30.70%           19.20%                          32  \n",
      "7             43.00%            7.50%                         110  \n",
      "8             25.00%            4.10%                          60  \n",
      "9             39.40%            5.20%                          48  \n",
      "10            34.30%            9.30%                          82  \n",
      "11            36.80%            5.20%                          28  \n",
      "12            22.50%           12.50%                          59  \n",
      "13            55.90%           16.00%                         100  \n",
      "14            47.20%           13.80%                          39  \n",
      "15            21.20%            6.00%                          38  \n"
     ]
    }
   ],
   "source": [
    "print('Select the first 7 columns')\n",
    "print(euro12[euro12.columns[range(7)]])"
   ]
  },
  {
   "cell_type": "code",
   "execution_count": 20,
   "metadata": {},
   "outputs": [
    {
     "name": "stdout",
     "output_type": "stream",
     "text": [
      "Select all columns except the last 3.\n",
      "                   Team  Goals  Shots on target  Shots off target  \\\n",
      "0               Croatia      4               13                12   \n",
      "1        Czech Republic      4               13                18   \n",
      "2               Denmark      4               10                10   \n",
      "3               England      5               11                18   \n",
      "4                France      3               22                24   \n",
      "5               Germany     10               32                32   \n",
      "6                Greece      5                8                18   \n",
      "7                 Italy      6               34                45   \n",
      "8           Netherlands      2               12                36   \n",
      "9                Poland      2               15                23   \n",
      "10             Portugal      6               22                42   \n",
      "11  Republic of Ireland      1                7                12   \n",
      "12               Russia      5                9                31   \n",
      "13                Spain     12               42                33   \n",
      "14               Sweden      5               17                19   \n",
      "15              Ukraine      2                7                26   \n",
      "\n",
      "   Shooting Accuracy % Goals-to-shots  Total shots (inc. Blocked)  \\\n",
      "0             51.90%           16.00%                          32   \n",
      "1             41.90%           12.90%                          39   \n",
      "2             50.00%           20.00%                          27   \n",
      "3             50.00%           17.20%                          40   \n",
      "4             37.90%            6.50%                          65   \n",
      "5             47.80%           15.60%                          80   \n",
      "6             30.70%           19.20%                          32   \n",
      "7             43.00%            7.50%                         110   \n",
      "8             25.00%            4.10%                          60   \n",
      "9             39.40%            5.20%                          48   \n",
      "10            34.30%            9.30%                          82   \n",
      "11            36.80%            5.20%                          28   \n",
      "12            22.50%           12.50%                          59   \n",
      "13            55.90%           16.00%                         100   \n",
      "14            47.20%           13.80%                          39   \n",
      "15            21.20%            6.00%                          38   \n",
      "\n",
      "    Hit Woodwork  Penalty goals  Penalties not scored  ...  Clean Sheets  \\\n",
      "0              0              0                     0  ...             0   \n",
      "1              0              0                     0  ...             1   \n",
      "2              1              0                     0  ...             1   \n",
      "3              0              0                     0  ...             2   \n",
      "4              1              0                     0  ...             1   \n",
      "5              2              1                     0  ...             1   \n",
      "6              1              1                     1  ...             1   \n",
      "7              2              0                     0  ...             2   \n",
      "8              2              0                     0  ...             0   \n",
      "9              0              0                     0  ...             0   \n",
      "10             6              0                     0  ...             2   \n",
      "11             0              0                     0  ...             0   \n",
      "12             2              0                     0  ...             0   \n",
      "13             0              1                     0  ...             5   \n",
      "14             3              0                     0  ...             1   \n",
      "15             0              0                     0  ...             0   \n",
      "\n",
      "    Blocks  Goals conceded Saves made  Saves-to-shots ratio  Fouls Won  \\\n",
      "0       10               3         13                81.30%         41   \n",
      "1       10               6          9                60.10%         53   \n",
      "2       10               5         10                66.70%         25   \n",
      "3       29               3         22                88.10%         43   \n",
      "4        7               5          6                54.60%         36   \n",
      "5       11               6         10                62.60%         63   \n",
      "6       23               7         13                65.10%         67   \n",
      "7       18               7         20                74.10%        101   \n",
      "8        9               5         12                70.60%         35   \n",
      "9        8               3          6                66.70%         48   \n",
      "10      11               4         10                71.50%         73   \n",
      "11      23               9         17                65.40%         43   \n",
      "12       8               3         10                77.00%         34   \n",
      "13       8               1         15                93.80%        102   \n",
      "14      12               5          8                61.60%         35   \n",
      "15       4               4         13                76.50%         48   \n",
      "\n",
      "    Fouls Conceded  Offsides  Yellow Cards  Red Cards  \n",
      "0               62         2             9          0  \n",
      "1               73         8             7          0  \n",
      "2               38         8             4          0  \n",
      "3               45         6             5          0  \n",
      "4               51         5             6          0  \n",
      "5               49        12             4          0  \n",
      "6               48        12             9          1  \n",
      "7               89        16            16          0  \n",
      "8               30         3             5          0  \n",
      "9               56         3             7          1  \n",
      "10              90        10            12          0  \n",
      "11              51        11             6          1  \n",
      "12              43         4             6          0  \n",
      "13              83        19            11          0  \n",
      "14              51         7             7          0  \n",
      "15              31         4             5          0  \n",
      "\n",
      "[16 rows x 32 columns]\n"
     ]
    }
   ],
   "source": [
    "print('Select all columns except the last 3.')\n",
    "print(euro12[euro12.columns[:-4]])"
   ]
  },
  {
   "cell_type": "code",
   "execution_count": 21,
   "metadata": {},
   "outputs": [
    {
     "name": "stdout",
     "output_type": "stream",
     "text": [
      " Present only the Shooting Accuracy from England, Italy and Russia\n",
      "3     50.00%\n",
      "7     43.00%\n",
      "12    22.50%\n",
      "Name: Shooting Accuracy, dtype: object\n"
     ]
    }
   ],
   "source": [
    "print(' Present only the Shooting Accuracy from England, Italy and Russia')\n",
    "print(euro12['Shooting Accuracy'][euro12['Team'].isin(['England','Italy','Russia'] )])\n"
   ]
  },
  {
   "cell_type": "code",
   "execution_count": 22,
   "metadata": {},
   "outputs": [
    {
     "name": "stdout",
     "output_type": "stream",
     "text": [
      "16\n"
     ]
    }
   ],
   "source": [
    "print(len(euro12))"
   ]
  },
  {
   "cell_type": "code",
   "execution_count": 23,
   "metadata": {},
   "outputs": [],
   "source": [
    "list1=[x for x in range(len(euro12))]"
   ]
  },
  {
   "cell_type": "code",
   "execution_count": 24,
   "metadata": {},
   "outputs": [
    {
     "data": {
      "text/plain": [
       "[0, 1, 2, 3, 4, 5, 6, 7, 8, 9, 10, 11, 12, 13, 14, 15]"
      ]
     },
     "execution_count": 24,
     "metadata": {},
     "output_type": "execute_result"
    }
   ],
   "source": [
    "list1"
   ]
  },
  {
   "cell_type": "code",
   "execution_count": 57,
   "metadata": {
    "scrolled": false
   },
   "outputs": [
    {
     "name": "stdout",
     "output_type": "stream",
     "text": [
      "Use apply method on Goal Column to make a new column called Performance, using following conditions\n",
      "If Goals are less than or equal to 2, peformance is Below Avg\n",
      "If Goals are more than 2 and less than or equal to 5, peformance is Average\n",
      "If Goals are more than 5 and less than or equal to 10, peformance is Above Average\n",
      "If Goals are more than 10 then peformance is Excellent\n"
     ]
    }
   ],
   "source": [
    "print(\"Use apply method on Goal Column to make a new column called Performance, using following conditions\")\n",
    "print(\"If Goals are less than or equal to 2, peformance is Below Avg\")\n",
    "print(\"If Goals are more than 2 and less than or equal to 5, peformance is Average\")\n",
    "print(\"If Goals are more than 5 and less than or equal to 10, peformance is Above Average\")\n",
    "print(\"If Goals are more than 10 then peformance is Excellent\")\n",
    "\n",
    "list1=[]\n",
    "x=1\n",
    "for x in range(len(euro12)):\n",
    "    if euro12['Goals'][x]<=2:\n",
    "        list1.append(\"Below Avg\")\n",
    "    elif euro12['Goals'][x]>2 and euro12['Goals'][x]<=5:\n",
    "        list1.append(\" Avg\")\n",
    "    elif euro12['Goals'][x]>5 and euro12['Goals'][x]<=10:\n",
    "        list1.append(\"Above Avg\")\n",
    "    elif euro12['Goals'][x]>10:\n",
    "        list1.append(\"Excellent\")\n",
    "        \n",
    "euro12[\"Performance\"]=list1"
   ]
  },
  {
   "cell_type": "code",
   "execution_count": 56,
   "metadata": {},
   "outputs": [
    {
     "data": {
      "text/plain": [
       "[' Avg',\n",
       " ' Avg',\n",
       " ' Avg',\n",
       " ' Avg',\n",
       " ' Avg',\n",
       " 'Above Avg',\n",
       " ' Avg',\n",
       " 'Above Avg',\n",
       " 'Below Avg',\n",
       " 'Below Avg',\n",
       " 'Above Avg',\n",
       " 'Below Avg',\n",
       " ' Avg',\n",
       " 'Excellent',\n",
       " ' Avg',\n",
       " 'Below Avg']"
      ]
     },
     "execution_count": 56,
     "metadata": {},
     "output_type": "execute_result"
    }
   ],
   "source": [
    "list1"
   ]
  },
  {
   "cell_type": "code",
   "execution_count": 60,
   "metadata": {
    "scrolled": true
   },
   "outputs": [
    {
     "data": {
      "text/plain": [
       "0           Avg\n",
       "1           Avg\n",
       "2           Avg\n",
       "3           Avg\n",
       "4           Avg\n",
       "5     Above Avg\n",
       "6           Avg\n",
       "7     Above Avg\n",
       "8     Below Avg\n",
       "9     Below Avg\n",
       "10    Above Avg\n",
       "11    Below Avg\n",
       "12          Avg\n",
       "13    Excellent\n",
       "14          Avg\n",
       "15    Below Avg\n",
       "Name: Performance, dtype: object"
      ]
     },
     "execution_count": 60,
     "metadata": {},
     "output_type": "execute_result"
    }
   ],
   "source": [
    "euro12['Performance']"
   ]
  },
  {
   "cell_type": "code",
   "execution_count": null,
   "metadata": {},
   "outputs": [],
   "source": []
  }
 ],
 "metadata": {
  "kernelspec": {
   "display_name": "Python 3",
   "language": "python",
   "name": "python3"
  },
  "language_info": {
   "codemirror_mode": {
    "name": "ipython",
    "version": 3
   },
   "file_extension": ".py",
   "mimetype": "text/x-python",
   "name": "python",
   "nbconvert_exporter": "python",
   "pygments_lexer": "ipython3",
   "version": "3.7.3"
  }
 },
 "nbformat": 4,
 "nbformat_minor": 2
}
