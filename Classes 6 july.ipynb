{
 "cells": [
  {
   "cell_type": "code",
   "execution_count": 23,
   "metadata": {},
   "outputs": [],
   "source": [
    "class Car():\n",
    "    def __init__(self,make,model,year):\n",
    "        self.make=make\n",
    "        self.model=model\n",
    "        self.year=year\n",
    "        self.odometer=0\n",
    "    def get_name(self):\n",
    "        long_name=str(self.year)+ ' ' + self.make+ ' '+self.model\n",
    "        return long_name.title()\n",
    "    def read_odometer(self):\n",
    "        current_odo_reading=self.odometer\n",
    "        return current_odo_reading\n",
    "    def update_odometer(self,mileage):\n",
    "        self.odometer=mileage\n",
    "my_new_car=Car('audi','a4',2017)\n"
   ]
  },
  {
   "cell_type": "code",
   "execution_count": 24,
   "metadata": {},
   "outputs": [
    {
     "name": "stdout",
     "output_type": "stream",
     "text": [
      "2017 Audi A4\n"
     ]
    }
   ],
   "source": [
    "print(Car.get_name(my_new_car))"
   ]
  },
  {
   "cell_type": "code",
   "execution_count": 25,
   "metadata": {},
   "outputs": [
    {
     "name": "stdout",
     "output_type": "stream",
     "text": [
      "0\n"
     ]
    }
   ],
   "source": [
    "print(my_new_car.read_odometer())"
   ]
  },
  {
   "cell_type": "code",
   "execution_count": 30,
   "metadata": {},
   "outputs": [],
   "source": [
    "my_new_car.update_odometer(65)"
   ]
  },
  {
   "cell_type": "markdown",
   "metadata": {},
   "source": [
    "#direct value hit\n"
   ]
  },
  {
   "cell_type": "code",
   "execution_count": 28,
   "metadata": {},
   "outputs": [],
   "source": [
    "my_new_car.odometer=50"
   ]
  },
  {
   "cell_type": "code",
   "execution_count": 31,
   "metadata": {},
   "outputs": [
    {
     "name": "stdout",
     "output_type": "stream",
     "text": [
      "65\n"
     ]
    }
   ],
   "source": [
    "print(my_new_car.read_odometer())"
   ]
  },
  {
   "cell_type": "code",
   "execution_count": 33,
   "metadata": {},
   "outputs": [],
   "source": [
    "Car.update_odometer(my_new_car,78)"
   ]
  },
  {
   "cell_type": "code",
   "execution_count": 34,
   "metadata": {},
   "outputs": [
    {
     "name": "stdout",
     "output_type": "stream",
     "text": [
      "78\n"
     ]
    }
   ],
   "source": [
    "print(my_new_car.read_odometer())"
   ]
  },
  {
   "cell_type": "markdown",
   "metadata": {},
   "source": [
    "# Restaurant Problem"
   ]
  },
  {
   "cell_type": "code",
   "execution_count": 14,
   "metadata": {},
   "outputs": [],
   "source": [
    "class Restaurant():\n",
    "    def __init__(self,res_name,cuisine_type):\n",
    "        self.restaurant_name=res_name\n",
    "        self.cuisine_type=cuisine_type\n",
    "        self.isopen='open'\n",
    "        self.numberserved=0\n",
    "    def describe_restaurant(self):\n",
    "        return(self.restaurant_name + ' ' + self.cuisine_type)\n",
    "      \n",
    "    def open_restaurant(self): \n",
    "       \n",
    "        print('Restaurant is' + ' '+ self.isopen)\n",
    "    def update_numberserved(self,num):\n",
    "        self.numberserved=num+self.numberserved\n",
    "    def customer_served(self):\n",
    "        print('total number served today are ', self.numberserved)\n",
    "        \n",
    "        \n",
    "res=Restaurant('ABC','chineese')        \n",
    "        "
   ]
  },
  {
   "cell_type": "code",
   "execution_count": 15,
   "metadata": {},
   "outputs": [
    {
     "name": "stdout",
     "output_type": "stream",
     "text": [
      "ABC chineese\n",
      "Restaurant is open\n"
     ]
    }
   ],
   "source": [
    "print(res.describe_restaurant())\n",
    "res.open_restaurant()"
   ]
  },
  {
   "cell_type": "code",
   "execution_count": 16,
   "metadata": {},
   "outputs": [],
   "source": [
    "res.isopen='close'"
   ]
  },
  {
   "cell_type": "code",
   "execution_count": 17,
   "metadata": {},
   "outputs": [
    {
     "name": "stdout",
     "output_type": "stream",
     "text": [
      "Restaurant is close\n"
     ]
    }
   ],
   "source": [
    "res.open_restaurant()"
   ]
  },
  {
   "cell_type": "code",
   "execution_count": 18,
   "metadata": {},
   "outputs": [
    {
     "name": "stdout",
     "output_type": "stream",
     "text": [
      "total number served today are  0\n"
     ]
    }
   ],
   "source": [
    "res.customer_served()"
   ]
  },
  {
   "cell_type": "code",
   "execution_count": 19,
   "metadata": {},
   "outputs": [],
   "source": [
    "res.numberserved=600"
   ]
  },
  {
   "cell_type": "code",
   "execution_count": 20,
   "metadata": {},
   "outputs": [
    {
     "name": "stdout",
     "output_type": "stream",
     "text": [
      "total number served today are  600\n"
     ]
    }
   ],
   "source": [
    "res.customer_served()"
   ]
  },
  {
   "cell_type": "code",
   "execution_count": 21,
   "metadata": {},
   "outputs": [],
   "source": [
    "res.numberserved=600"
   ]
  },
  {
   "cell_type": "code",
   "execution_count": 22,
   "metadata": {},
   "outputs": [
    {
     "name": "stdout",
     "output_type": "stream",
     "text": [
      "total number served today are  600\n"
     ]
    }
   ],
   "source": [
    "res.customer_served()"
   ]
  },
  {
   "cell_type": "code",
   "execution_count": 23,
   "metadata": {},
   "outputs": [],
   "source": [
    "res.update_numberserved(650)"
   ]
  },
  {
   "cell_type": "code",
   "execution_count": 24,
   "metadata": {},
   "outputs": [
    {
     "name": "stdout",
     "output_type": "stream",
     "text": [
      "total number served today are  1250\n"
     ]
    }
   ],
   "source": [
    "res.customer_served()"
   ]
  },
  {
   "cell_type": "markdown",
   "metadata": {},
   "source": [
    "# Inheritance"
   ]
  },
  {
   "cell_type": "code",
   "execution_count": 1,
   "metadata": {},
   "outputs": [],
   "source": [
    "class Car():\n",
    "    def __init__(self,make,model,year):\n",
    "        self.make=make\n",
    "        self.model=model\n",
    "        self.year=year\n",
    "        self.odometer=0\n",
    "    def get_name(self):\n",
    "        long_name=str(self.year)+ ' ' + self.make+ ' '+self.model\n",
    "        return long_name.title()\n",
    "    def read_odometer(self):\n",
    "        current_odo_reading=self.odometer\n",
    "        return current_odo_reading\n",
    "    def update_odometer(self,mileage):\n",
    "        self.odometer=mileage"
   ]
  },
  {
   "cell_type": "code",
   "execution_count": 21,
   "metadata": {},
   "outputs": [],
   "source": [
    "class Battery():\n",
    "    def __init__(self,manufacturer,size,amp):\n",
    "        self.manufacturer=manufacturer\n",
    "        self.size=size\n",
    "        self.amp=amp\n",
    "    def describeBattery(self):\n",
    "        print (f\"the battery size of electric car is {self.size}\")\n",
    "    def setBatterySize(self,newsize):\n",
    "        self.battery=newsize    "
   ]
  },
  {
   "cell_type": "code",
   "execution_count": 31,
   "metadata": {},
   "outputs": [],
   "source": [
    "class Engine():\n",
    "    def __init__(self,make,power):\n",
    "        self.power=power\n",
    "        self.make=make\n",
    "    def describe_engine(self):    \n",
    "        print (f\"The power of engine are {self.power} and made by {self.make}\")\n",
    "    def setPower(self,power):\n",
    "        self.power=power"
   ]
  },
  {
   "cell_type": "code",
   "execution_count": 32,
   "metadata": {},
   "outputs": [],
   "source": [
    "class ElectricCar(Car):\n",
    "    def __init__(self,make,model,year):\n",
    "        super().__init__(make,model,year)\n",
    "        self.battery=Battery(\"AGS\",100,200)\n",
    "        self.engine=Engine(\"Honda\",\"100KW\")\n",
    "        \n"
   ]
  },
  {
   "cell_type": "code",
   "execution_count": 33,
   "metadata": {},
   "outputs": [],
   "source": [
    "er=ElectricCar(\"er\",\"rtr\",2020)"
   ]
  },
  {
   "cell_type": "code",
   "execution_count": 34,
   "metadata": {},
   "outputs": [
    {
     "data": {
      "text/plain": [
       "'2020 Er Rtr'"
      ]
     },
     "execution_count": 34,
     "metadata": {},
     "output_type": "execute_result"
    }
   ],
   "source": [
    "er.get_name()"
   ]
  },
  {
   "cell_type": "code",
   "execution_count": 35,
   "metadata": {},
   "outputs": [
    {
     "name": "stdout",
     "output_type": "stream",
     "text": [
      "the battery size of electric car is 100\n"
     ]
    }
   ],
   "source": [
    "er.battery.describeBattery()\n"
   ]
  },
  {
   "cell_type": "code",
   "execution_count": 36,
   "metadata": {},
   "outputs": [],
   "source": [
    "er.battery.setBatterySize(76)"
   ]
  },
  {
   "cell_type": "code",
   "execution_count": 37,
   "metadata": {},
   "outputs": [
    {
     "name": "stdout",
     "output_type": "stream",
     "text": [
      "the battery size of electric car is 100\n"
     ]
    }
   ],
   "source": [
    "er.battery.describeBattery()"
   ]
  },
  {
   "cell_type": "code",
   "execution_count": 38,
   "metadata": {},
   "outputs": [
    {
     "name": "stdout",
     "output_type": "stream",
     "text": [
      "The power of engine are 100KW and made by Honda\n"
     ]
    }
   ],
   "source": [
    "er.engine.describe_engine()"
   ]
  },
  {
   "cell_type": "code",
   "execution_count": 39,
   "metadata": {},
   "outputs": [],
   "source": [
    "er.engine.setPower(\"50KW\")"
   ]
  },
  {
   "cell_type": "code",
   "execution_count": 40,
   "metadata": {},
   "outputs": [
    {
     "name": "stdout",
     "output_type": "stream",
     "text": [
      "The power of engine are 50KW and made by Honda\n"
     ]
    }
   ],
   "source": [
    "er.engine.describe_engine()"
   ]
  },
  {
   "cell_type": "markdown",
   "metadata": {},
   "source": [
    "# USER PROBLEM"
   ]
  },
  {
   "cell_type": "code",
   "execution_count": 18,
   "metadata": {},
   "outputs": [],
   "source": [
    "class USER():\n",
    "    def __init__(s,firstName,lastName,age):\n",
    "        s.firstName=firstName\n",
    "        s.lastName=lastName\n",
    "        s.age=age\n",
    "        s.login_attempts=0;\n",
    "    def describe_user(s):\n",
    "        print(s.firstName+\" \"+s.lastName,sep='\\n')\n",
    "        print(\"Age= \",s.age)\n",
    "    def greet_user(self):\n",
    "        print(\"Hello \"+ self.firstName+ \" \"+ self.lastName)\n",
    "    def inc_login_attempts(s):\n",
    "        s.login_attempts=s.login_attempts+1\n",
    "    def reset_login_attempts(s):\n",
    "        s.login_attempts=0\n",
    "        "
   ]
  },
  {
   "cell_type": "code",
   "execution_count": 19,
   "metadata": {},
   "outputs": [],
   "source": [
    "user1=USER('Muhammad','Owais',21)"
   ]
  },
  {
   "cell_type": "code",
   "execution_count": 20,
   "metadata": {},
   "outputs": [
    {
     "name": "stdout",
     "output_type": "stream",
     "text": [
      "Muhammad Owais\n",
      "Age=  21\n"
     ]
    }
   ],
   "source": [
    "user1.describe_user()"
   ]
  },
  {
   "cell_type": "code",
   "execution_count": 21,
   "metadata": {},
   "outputs": [
    {
     "name": "stdout",
     "output_type": "stream",
     "text": [
      "Hello Muhammad Owais\n"
     ]
    }
   ],
   "source": [
    "user1.greet_user()"
   ]
  },
  {
   "cell_type": "code",
   "execution_count": 22,
   "metadata": {},
   "outputs": [],
   "source": [
    "user2=USER('Muhammad','Ali',25)\n",
    "user3=USER('Muhammad','Ali Abdullah',25)"
   ]
  },
  {
   "cell_type": "code",
   "execution_count": 23,
   "metadata": {},
   "outputs": [
    {
     "name": "stdout",
     "output_type": "stream",
     "text": [
      "Hello Muhammad Ali\n"
     ]
    }
   ],
   "source": [
    "user2.greet_user()"
   ]
  },
  {
   "cell_type": "code",
   "execution_count": 24,
   "metadata": {},
   "outputs": [],
   "source": [
    "user1.inc_login_attempts()"
   ]
  },
  {
   "cell_type": "code",
   "execution_count": 25,
   "metadata": {},
   "outputs": [
    {
     "data": {
      "text/plain": [
       "1"
      ]
     },
     "execution_count": 25,
     "metadata": {},
     "output_type": "execute_result"
    }
   ],
   "source": [
    "user1.login_attempts"
   ]
  },
  {
   "cell_type": "code",
   "execution_count": 26,
   "metadata": {},
   "outputs": [],
   "source": [
    "user2.inc_login_attempts()"
   ]
  },
  {
   "cell_type": "code",
   "execution_count": 29,
   "metadata": {},
   "outputs": [],
   "source": [
    "user2.inc_login_attempts()"
   ]
  },
  {
   "cell_type": "code",
   "execution_count": 33,
   "metadata": {},
   "outputs": [
    {
     "data": {
      "text/plain": [
       "0"
      ]
     },
     "execution_count": 33,
     "metadata": {},
     "output_type": "execute_result"
    }
   ],
   "source": [
    "user2.login_attempts"
   ]
  },
  {
   "cell_type": "code",
   "execution_count": 31,
   "metadata": {},
   "outputs": [
    {
     "data": {
      "text/plain": [
       "0"
      ]
     },
     "execution_count": 31,
     "metadata": {},
     "output_type": "execute_result"
    }
   ],
   "source": [
    "user3.login_attempts"
   ]
  },
  {
   "cell_type": "code",
   "execution_count": 32,
   "metadata": {},
   "outputs": [],
   "source": [
    "user2.reset_login_attempts()"
   ]
  },
  {
   "cell_type": "code",
   "execution_count": null,
   "metadata": {},
   "outputs": [],
   "source": []
  }
 ],
 "metadata": {
  "kernelspec": {
   "display_name": "Python 3",
   "language": "python",
   "name": "python3"
  },
  "language_info": {
   "codemirror_mode": {
    "name": "ipython",
    "version": 3
   },
   "file_extension": ".py",
   "mimetype": "text/x-python",
   "name": "python",
   "nbconvert_exporter": "python",
   "pygments_lexer": "ipython3",
   "version": "3.7.3"
  }
 },
 "nbformat": 4,
 "nbformat_minor": 2
}
