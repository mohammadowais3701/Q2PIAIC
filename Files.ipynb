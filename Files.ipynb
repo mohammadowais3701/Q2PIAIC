{
 "cells": [
  {
   "cell_type": "code",
   "execution_count": 3,
   "metadata": {},
   "outputs": [],
   "source": [
    "with open(\"ABC.txt\",\"w\") as file:\n",
    "    file.write(\"Hello \")\n",
    "    "
   ]
  },
  {
   "cell_type": "code",
   "execution_count": 9,
   "metadata": {},
   "outputs": [],
   "source": [
    "with open(\"ABC.txt\",\"r\") as f:\n",
    "    content=f.read()"
   ]
  },
  {
   "cell_type": "code",
   "execution_count": 10,
   "metadata": {},
   "outputs": [
    {
     "data": {
      "text/plain": [
       "'Hello Python'"
      ]
     },
     "execution_count": 10,
     "metadata": {},
     "output_type": "execute_result"
    }
   ],
   "source": [
    "content"
   ]
  },
  {
   "cell_type": "code",
   "execution_count": null,
   "metadata": {},
   "outputs": [],
   "source": [
    "with open(\"ABC.txt\",\"a\") as file:\n",
    "    file.write(\"Python\")"
   ]
  },
  {
   "cell_type": "code",
   "execution_count": 2,
   "metadata": {},
   "outputs": [
    {
     "name": "stdout",
     "output_type": "stream",
     "text": [
      "Enter NAmeA\n",
      "Enter Age12\n",
      "Enter CNIC123\n",
      "Enter NAmew\n",
      "Enter Age123\n",
      "Enter CNIC1234\n",
      "Enter NAmeq\n",
      "Enter Age1\n",
      "Enter CNIC124\n",
      "Enter NAmeo\n",
      "Enter Age1\n",
      "Enter CNIC12345\n"
     ]
    }
   ],
   "source": [
    "with open(\"UserInfo.txt\",\"w\") as file:\n",
    "    name=input(\"Enter NAme\")\n",
    "    age=int(input(\"Enter Age\"))\n",
    "    cnic=input(\"Enter CNIC\")\n",
    "    file.write(f\"{name} {age} {cnic}\\n\")\n",
    "for i in range(3):\n",
    "    with open(\"UserInfo.txt\",\"a\") as f:\n",
    "        name=input(\"Enter NAme\")\n",
    "        age=int(input(\"Enter Age\"))\n",
    "        cnic=input(\"Enter CNIC\")\n",
    "        f.write(f\"{name} {age} {cnic}\\n\")"
   ]
  },
  {
   "cell_type": "markdown",
   "metadata": {},
   "source": [
    "# w+ open hoty huyfile ka content remove hota hai \n",
    "#r+ open hota hai aur append hota hai"
   ]
  },
  {
   "cell_type": "markdown",
   "metadata": {},
   "source": [
    "# Student Management\n",
    "name ,father name, rollNum,class,subject :list\n",
    "enroll\n",
    "getstudents\n",
    "update\n",
    "delete student roll no, class provide\n",
    "create menu"
   ]
  }
 ],
 "metadata": {
  "kernelspec": {
   "display_name": "Python 3",
   "language": "python",
   "name": "python3"
  },
  "language_info": {
   "codemirror_mode": {
    "name": "ipython",
    "version": 3
   },
   "file_extension": ".py",
   "mimetype": "text/x-python",
   "name": "python",
   "nbconvert_exporter": "python",
   "pygments_lexer": "ipython3",
   "version": "3.7.3"
  }
 },
 "nbformat": 4,
 "nbformat_minor": 2
}
