{
 "cells": [
  {
   "cell_type": "code",
   "execution_count": 25,
   "metadata": {},
   "outputs": [
    {
     "name": "stdout",
     "output_type": "stream",
     "text": [
      "\t\tSTUDENT MANAGEMENT SYSTEM\n",
      "Press \n",
      " 1: ENROLL STUDENT\n",
      " 2: GET STUDENTS \n",
      " 3: UPDATE STUDENT \n",
      " 4: DELETE STUDENT\n",
      "2\n",
      "Ali\n",
      "ahmed\n",
      "12345\n",
      "10\n",
      "Engmaths\n",
      "Saleem\n",
      "Kashif\n",
      "45678\n",
      "9\n",
      "computer,physics,\n",
      "\n"
     ]
    }
   ],
   "source": [
    "print(\"\\t\\tSTUDENT MANAGEMENT SYSTEM\")\n",
    "print(\"Press \\n 1: ENROLL STUDENT\\n 2: GET STUDENTS \\n 3: UPDATE STUDENT \\n 4: DELETE STUDENT\")\n",
    "\n",
    "while(True):\n",
    "    n=int(input(\"\"))\n",
    "    if(n==1):\n",
    "        name=input(\"Enter Student Name\")\n",
    "        fathername=input(\"Enter father Name\")\n",
    "        rollno=input(\"Enter Roll Number\")\n",
    "        Class=input(\"Enter Class\")\n",
    "        subject=[]\n",
    "        while(True):\n",
    "            s=input(\"Enter Subject Name ,press n for stop subject taking \")\n",
    "            if(s==\"n\"):\n",
    "                break\n",
    "            else:\n",
    "                subject.append(s)\n",
    "        with open(\"students.txt\",\"a\") as f:\n",
    "            f.write(name+\"\\n\")  \n",
    "            f.write(fathername+\"\\n\")\n",
    "            f.write(rollno+\"\\n\")  \n",
    "            f.write(Class+\"\\n\")\n",
    "            for i in range(len(subject)):\n",
    "                f.write(subject[i]+\",\")\n",
    "            f.write(\"\\n\")\n",
    "            f.close()\n",
    "    elif(n==2):\n",
    "        with open(\"students.txt\",\"r\") as f:\n",
    "            content=f.read()\n",
    "            print(content)\n",
    "            f.close()\n",
    "    elif(n=3){\n",
    "        \n",
    "    }        \n",
    "    if(1==1):\n",
    "        break\n",
    "  "
   ]
  },
  {
   "cell_type": "code",
   "execution_count": null,
   "metadata": {},
   "outputs": [],
   "source": []
  }
 ],
 "metadata": {
  "kernelspec": {
   "display_name": "Python 3",
   "language": "python",
   "name": "python3"
  },
  "language_info": {
   "codemirror_mode": {
    "name": "ipython",
    "version": 3
   },
   "file_extension": ".py",
   "mimetype": "text/x-python",
   "name": "python",
   "nbconvert_exporter": "python",
   "pygments_lexer": "ipython3",
   "version": "3.7.3"
  }
 },
 "nbformat": 4,
 "nbformat_minor": 2
}
