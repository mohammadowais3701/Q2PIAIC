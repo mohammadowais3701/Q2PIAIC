{
 "cells": [
  {
   "cell_type": "code",
   "execution_count": null,
   "metadata": {},
   "outputs": [],
   "source": [
    "import csv"
   ]
  },
  {
   "cell_type": "code",
   "execution_count": null,
   "metadata": {},
   "outputs": [],
   "source": [
    "with open ('abc.csv') as f:\n",
    "    x=csv.reader(f)\n",
    "    data=[]\n",
    "    for  i in x:\n",
    "        data+=i\n",
    "    print(data)    "
   ]
  },
  {
   "cell_type": "code",
   "execution_count": null,
   "metadata": {},
   "outputs": [],
   "source": [
    "with open ('voter.csv','w',newline='') as file:\n",
    "    data_handler=csv.writer(file,delimiter=',')\n",
    "    data_handler.writerow([\"Ali\",\"12345678\"])\n",
    "    data_handler.writerow([\"Ahmed\", \"87654321\"])\n",
    "    data_handler.writerow([\"Kamran\", \"4500\"])"
   ]
  },
  {
   "cell_type": "code",
   "execution_count": 24,
   "metadata": {
    "scrolled": true
   },
   "outputs": [
    {
     "name": "stdout",
     "output_type": "stream",
     "text": [
      "Do you want to cast your vote: y\n",
      "Do you have NICy\n",
      "Enter your name: Ali\n",
      "Enter Your NIC number: 1234\n",
      "Do you want to cast your vote: y\n",
      "Do you have NICy\n",
      "Enter your name: Ah\n",
      "Enter Your NIC number: 87654321\n",
      "Do you want to cast your vote: n\n"
     ]
    }
   ],
   "source": [
    "with open('voter.csv') as f:\n",
    "    j=csv.reader(f)\n",
    "    voterlist=[] \n",
    "    for i in j:\n",
    "        voterlist+=[i]   \n",
    "    while(True):\n",
    "       \n",
    "        ch=input(\"Do you want to cast your vote: \").lower()\n",
    "        if(ch==\"y\"):\n",
    "            n=input(\"Do you have NIC\").lower();\n",
    "            if(n==\"y\"):\n",
    "                name=input(\"Enter your name: \")\n",
    "                nic=input(\"Enter Your NIC number: \")\n",
    "                row=0\n",
    "                 \n",
    "                for row in range(len(voterlist)):\n",
    "                    if(voterlist[row][0]==name and voterlist[row][1]==nic):\n",
    "                        print(\"you can cast your vote\")\n",
    "                        break\n",
    "                   \n",
    "                if(row>len(voterlist)-1):\n",
    "                    print(\"You cannot cast your vote because your name is not present in voter list\")\n",
    "                    break\n",
    "            else:\n",
    "                print(\"You cannot cast your vote\")\n",
    "                break\n",
    "        else:\n",
    "            break\n",
    "    f.close()"
   ]
  },
  {
   "cell_type": "code",
   "execution_count": null,
   "metadata": {},
   "outputs": [],
   "source": [
    "import json"
   ]
  },
  {
   "cell_type": "code",
   "execution_count": null,
   "metadata": {},
   "outputs": [],
   "source": [
    "info={\"Owais\":\"03412104712\",\"ali\":\"12345\"}"
   ]
  },
  {
   "cell_type": "code",
   "execution_count": null,
   "metadata": {},
   "outputs": [],
   "source": [
    "with open(\"infojson.json\",\"w\") as jf:\n",
    "    json.dump(info,jf)"
   ]
  },
  {
   "cell_type": "code",
   "execution_count": null,
   "metadata": {},
   "outputs": [],
   "source": [
    "with open(\"infojson.json\") as jfr:\n",
    "    x=json.load(jfr)\n",
    "    print(x)\n",
    "    for j,i in x.items():\n",
    "        print(j,i)"
   ]
  },
  {
   "cell_type": "code",
   "execution_count": null,
   "metadata": {},
   "outputs": [],
   "source": [
    "userinfo={}                  # nested dictionaries ,voter list using csv,\n"
   ]
  },
  {
   "cell_type": "markdown",
   "metadata": {},
   "source": [
    "# List Comprenhension"
   ]
  },
  {
   "cell_type": "code",
   "execution_count": 23,
   "metadata": {},
   "outputs": [
    {
     "name": "stdout",
     "output_type": "stream",
     "text": [
      "[1, 4, 9, 16]\n"
     ]
    }
   ],
   "source": [
    "lcomp=[i**2 for i in [1,2,3,4] ]\n",
    "print(lcomp)"
   ]
  },
  {
   "cell_type": "code",
   "execution_count": 21,
   "metadata": {},
   "outputs": [],
   "source": [
    "person={\"name\":\"ov\",'age':20}\n",
    "lcomp ={ i for i in person.values()}"
   ]
  },
  {
   "cell_type": "code",
   "execution_count": 22,
   "metadata": {},
   "outputs": [
    {
     "data": {
      "text/plain": [
       "{20, 'ov'}"
      ]
     },
     "execution_count": 22,
     "metadata": {},
     "output_type": "execute_result"
    }
   ],
   "source": [
    "lcomp"
   ]
  },
  {
   "cell_type": "code",
   "execution_count": null,
   "metadata": {},
   "outputs": [],
   "source": [
    "print(lcomp)"
   ]
  },
  {
   "cell_type": "code",
   "execution_count": null,
   "metadata": {},
   "outputs": [],
   "source": [
    "numbers=[i/5 for i in range(10)]\n",
    "print(numbers)"
   ]
  },
  {
   "cell_type": "code",
   "execution_count": null,
   "metadata": {},
   "outputs": [],
   "source": [
    "even=[i for i in range(100) if i%2==0]\n",
    "print(even)"
   ]
  },
  {
   "cell_type": "code",
   "execution_count": 26,
   "metadata": {},
   "outputs": [
    {
     "data": {
      "text/plain": [
       "2"
      ]
     },
     "execution_count": 26,
     "metadata": {},
     "output_type": "execute_result"
    }
   ],
   "source": [
    "2"
   ]
  },
  {
   "cell_type": "code",
   "execution_count": 33,
   "metadata": {},
   "outputs": [],
   "source": [
    "def subnum(f,s=3):\n",
    "    u=f-s\n",
    "    print(u)"
   ]
  },
  {
   "cell_type": "code",
   "execution_count": 36,
   "metadata": {},
   "outputs": [
    {
     "name": "stdout",
     "output_type": "stream",
     "text": [
      "-6\n"
     ]
    }
   ],
   "source": [
    "subnum(3,9)"
   ]
  },
  {
   "cell_type": "code",
   "execution_count": null,
   "metadata": {},
   "outputs": [],
   "source": []
  }
 ],
 "metadata": {
  "kernelspec": {
   "display_name": "Python 3",
   "language": "python",
   "name": "python3"
  },
  "language_info": {
   "codemirror_mode": {
    "name": "ipython",
    "version": 3
   },
   "file_extension": ".py",
   "mimetype": "text/x-python",
   "name": "python",
   "nbconvert_exporter": "python",
   "pygments_lexer": "ipython3",
   "version": "3.7.3"
  }
 },
 "nbformat": 4,
 "nbformat_minor": 2
}
